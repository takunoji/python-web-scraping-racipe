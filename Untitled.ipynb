{
 "cells": [
  {
   "cell_type": "code",
   "execution_count": 6,
   "id": "ae2c9719-4c94-473a-8f17-07ad712befe9",
   "metadata": {},
   "outputs": [
    {
     "data": {
      "text/plain": [
       "<Response [201]>"
      ]
     },
     "execution_count": 6,
     "metadata": {},
     "output_type": "execute_result"
    }
   ],
   "source": [
    "# Pythonのお勉強 No.4 WordPressの自動投稿\n",
    "import requests\n",
    "import urllib\n",
    "from bs4 import BeautifulSoup\n",
    "from datetime import datetime\n",
    "\n",
    "# スクレイピング対象\n",
    "url = 'https://news.google.com/search'\n",
    "keyword = \"香川真司 OR 久保建英\"\n",
    "params = {'hl':'ja', 'gl':'JP', 'ceid':'JP:ja', 'q':keyword}\n",
    "\n",
    "# WordPress接続情報\n",
    "WP_URL = 'http://recipe.haguremono.work/'\n",
    "WP_USERNAME = 'Python_Auto'\n",
    "WP_PASSWORD = 'bimw urNv VUUt XWhe JgUR Ndl8'\n",
    "\n",
    "# WordPress新規投稿関数\n",
    "def post_article(status, slug, title, content, category_ids, tag_ids, media_id):\n",
    "\n",
    "   # REST APIを使うための認証情報\n",
    "   user_ = WP_USERNAME\n",
    "   pass_ = WP_PASSWORD\n",
    "   # 投稿記事情報\n",
    "   payload = {\"status\": status,                     #ステータス 公開：publish, 下書き：draft\n",
    "              \"slug\": slug,                         #URLスラッグ\n",
    "              \"title\": title,                       #タイトル\n",
    "              \"content\": content,                   #内容\n",
    "              \"date\": datetime.now().isoformat(),   #投稿日時\n",
    "              \"categories\": category_ids,           #カテゴリー\n",
    "              \"tags\": tag_ids}                      #タグ\n",
    "   if media_id is not None:\n",
    "       payload['featured_media'] = media_id         #アイキャッチ画像\n",
    "\n",
    "   # 記事の新規投稿を行う\n",
    "   res = requests.post(urllib.parse.urljoin(WP_URL, \"wp-json/wp/v2/posts\"),     #\"wp-json/wp/v2/posts\"にPostすると新規投稿になる\n",
    "                       json=payload,                                            #投稿する記事の内容を設定する\n",
    "                       auth=(user_, pass_))                                     #ユーザ、パスワードを設定する\n",
    "   return res\n",
    "\n",
    "# スクレイピング対象のURLにリクエスト\n",
    "res = requests.get(url, params=params)\n",
    "soup = BeautifulSoup(res.content, \"html.parser\")\n",
    "\n",
    "# レスポンスからh3階層のニュースを1件抽出する\n",
    "h3_entry = soup.select_one(\".xrnccd\")\n",
    "\n",
    "# ニュースのリンク先URLを取得し、整形してフルパスの<a>タグを作る\n",
    "h3_link = h3_entry.select_one(\"h3 a\")[\"href\"]\n",
    "h3_link = urllib.parse.urljoin(url, h3_link)\n",
    "content = '<a href=\"' + h3_link + '\">' + h3_link + '</a>\\n'\n",
    "\n",
    "# 記事を下書き投稿する\n",
    "post_article('draft',\n",
    "             'WordPress-New-Post',\n",
    "             '【動作確認】WordPress自動投稿',\n",
    "             content,\n",
    "             category_ids=[2],\n",
    "             tag_ids=[5,6],\n",
    "             media_id=759)"
   ]
  },
  {
   "cell_type": "code",
   "execution_count": null,
   "id": "1ae1e931-7e9f-4ef8-8453-ba04447c4afe",
   "metadata": {},
   "outputs": [],
   "source": []
  }
 ],
 "metadata": {
  "kernelspec": {
   "display_name": "Python 3 (ipykernel)",
   "language": "python",
   "name": "python3"
  },
  "language_info": {
   "codemirror_mode": {
    "name": "ipython",
    "version": 3
   },
   "file_extension": ".py",
   "mimetype": "text/x-python",
   "name": "python",
   "nbconvert_exporter": "python",
   "pygments_lexer": "ipython3",
   "version": "3.8.5"
  }
 },
 "nbformat": 4,
 "nbformat_minor": 5
}
