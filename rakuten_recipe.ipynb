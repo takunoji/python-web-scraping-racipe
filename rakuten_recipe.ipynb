{
 "cells": [
  {
   "cell_type": "code",
   "execution_count": 1,
   "id": "d0fdff2d-ed0a-406d-973e-8a7a2d6b077a",
   "metadata": {},
   "outputs": [
    {
     "name": "stdout",
     "output_type": "stream",
     "text": [
      "Requirement already satisfied: bs4 in c:\\users\\takuc\\.conda\\envs\\python38_android\\lib\\site-packages (0.0.1)\n",
      "Requirement already satisfied: beautifulsoup4 in c:\\users\\takuc\\.conda\\envs\\python38_android\\lib\\site-packages (from bs4) (4.10.0)\n",
      "Requirement already satisfied: soupsieve>1.2 in c:\\users\\takuc\\.conda\\envs\\python38_android\\lib\\site-packages (from beautifulsoup4->bs4) (2.3)\n"
     ]
    }
   ],
   "source": [
    "!pip install bs4"
   ]
  },
  {
   "cell_type": "code",
   "execution_count": 2,
   "id": "9d0f2cc4-f34c-4b9a-8d06-3ddd871fa9b6",
   "metadata": {
    "tags": []
   },
   "outputs": [],
   "source": [
    "from bs4 import BeautifulSoup as bs4\n",
    "import requests\n",
    "import pandas as pd\n",
    "import time\n",
    "import re\n"
   ]
  },
  {
   "cell_type": "code",
   "execution_count": 3,
   "id": "f6e32cb2-51a0-40b4-964d-b32b8ca79ae4",
   "metadata": {},
   "outputs": [],
   "source": [
    "#レシピ一覧のURL\n",
    "url = 'https://erecipe.woman.excite.co.jp/food/meat/'\n",
    "#URLをrequest\n",
    "r = requests.get(url)\n",
    "time.sleep(3)"
   ]
  },
  {
   "cell_type": "code",
   "execution_count": 4,
   "id": "0a7c2af2-c7b2-4516-89de-72d1ab643979",
   "metadata": {},
   "outputs": [],
   "source": [
    "#取ってきたHTMLとパーサーを指定\n",
    "soup = bs4(r.text, 'html.parser')\n",
    "#soup"
   ]
  },
  {
   "cell_type": "code",
   "execution_count": 5,
   "id": "06e447ef-3843-427e-aa68-986277a5ad67",
   "metadata": {},
   "outputs": [],
   "source": [
    "#レシピ名称とパスが記載されているclassを取得\n",
    "contents = soup.find(class_=\"mT10\")\n",
    "#contents"
   ]
  },
  {
   "cell_type": "code",
   "execution_count": 6,
   "id": "00cf5f8b-71ec-4f79-aba8-8aacfa682381",
   "metadata": {},
   "outputs": [],
   "source": [
    "#aタグをすべて取得\n",
    "get_a = contents.find_all(\"a\")\n",
    "#get_a"
   ]
  },
  {
   "cell_type": "code",
   "execution_count": 7,
   "id": "29bf2fb2-c006-4432-b827-e42517e690d9",
   "metadata": {},
   "outputs": [
    {
     "data": {
      "text/plain": [
       "45"
      ]
     },
     "execution_count": 7,
     "metadata": {},
     "output_type": "execute_result"
    }
   ],
   "source": [
    "#数を調べてみる\n",
    "len(get_a)"
   ]
  },
  {
   "cell_type": "code",
   "execution_count": 8,
   "id": "8599f1db-67de-452b-8ed5-717258edab6f",
   "metadata": {},
   "outputs": [],
   "source": [
    "#class名を取ってみたんだけどうまくいかない\n",
    "#title_links = []\n",
    "#for i in range(len(get_a)):\n",
    "#    try:\n",
    "#        link_ = get_a[i].get(\"class\")\n",
    "#        print(link_)\n",
    "#        title_links.append(link_)\n",
    "#    except:\n",
    "#        pass"
   ]
  },
  {
   "cell_type": "code",
   "execution_count": 9,
   "id": "6de496dd-97a9-49d1-aa8e-6c6f8f188e86",
   "metadata": {},
   "outputs": [],
   "source": [
    "#リンクを取得\n",
    "recipe_links = []\n",
    "for i in range(len(get_a)):\n",
    "    try:\n",
    "        class_ = get_a[i].get(\"class\")\n",
    "        if class_[0] == 'recipename' :\n",
    "            link_ = 'https://erecipe.woman.excite.co.jp/' + get_a[i].get(\"href\")\n",
    "#            print(link_)\n",
    "            recipe_links.append(link_)\n",
    "    except:\n",
    "        pass"
   ]
  },
  {
   "cell_type": "code",
   "execution_count": 10,
   "id": "3b09f246-b565-42ff-a884-6bde3a952ab8",
   "metadata": {},
   "outputs": [
    {
     "data": {
      "text/plain": [
       "15"
      ]
     },
     "execution_count": 10,
     "metadata": {},
     "output_type": "execute_result"
    }
   ],
   "source": [
    "#取り合えず表示\n",
    "recipe_links\n",
    "len(recipe_links)"
   ]
  },
  {
   "cell_type": "code",
   "execution_count": 11,
   "id": "eff2b335-5b9e-4f6a-b94c-cbf69e253831",
   "metadata": {},
   "outputs": [],
   "source": [
    "#for i in range(len(title_links)):\n",
    "#    title_link = title_links[i]\n",
    "#    print(str(i)+\"回目のループ→\",title_link)"
   ]
  },
  {
   "cell_type": "code",
   "execution_count": 12,
   "id": "c6691dc7-1707-4f92-9ae3-0de0d5105cfd",
   "metadata": {},
   "outputs": [
    {
     "name": "stdout",
     "output_type": "stream",
     "text": [
      "0回目のループ→ https://erecipe.woman.excite.co.jp//detail/7be1e0dbac3df590d8ba893594929c3e.html\n",
      "牛すね肉の赤ワイン煮\n",
      "1回目のループ→ https://erecipe.woman.excite.co.jp//detail/bce7524b3f870ef80a85c6ef79ad1781.html\n",
      "パッケリのラザニア風\n",
      "2回目のループ→ https://erecipe.woman.excite.co.jp//detail/34032ec40efcf1fbb83c400d10a67c60.html\n",
      "ラム酒香る！ラムレーズン入りレバーペースト\n",
      "3回目のループ→ https://erecipe.woman.excite.co.jp//detail/746341cbe291b6000ca65e50312ebe84.html\n",
      "豚肉とサツマイモの黒酢酢豚\n",
      "4回目のループ→ https://erecipe.woman.excite.co.jp//detail/66bbb3336f19a96781a718dbee7c65c5.html\n",
      "モロヘイヤと鶏ささ身のゴマ和え　ワカメスープ\n",
      "5回目のループ→ https://erecipe.woman.excite.co.jp//detail/663b14f1a0b103235f0c1218d17d51b8.html\n",
      "レンジで簡単！蒸しナスと豚肉のサッパリ梅だれ\n",
      "6回目のループ→ https://erecipe.woman.excite.co.jp//detail/c05a5aa297340d4f18d35e8c60e5ca8c.html\n",
      "ササミのピカタフレッシュトマトソース\n",
      "7回目のループ→ https://erecipe.woman.excite.co.jp//detail/76368b4408220944e4e8a4f002d2f512.html\n",
      "焼きナスと豚しゃぶのだし浸し\n",
      "8回目のループ→ https://erecipe.woman.excite.co.jp//detail/2d35dc8626ab60e31c0a86729532fac6.html\n",
      "鶏手羽元と卵の梅酢煮\n",
      "9回目のループ→ https://erecipe.woman.excite.co.jp//detail/f9a1110de547f1a03cf7f6f3aba33329.html\n",
      "ゆでレバーの大葉和え by保田美幸さん\n",
      "10回目のループ→ https://erecipe.woman.excite.co.jp//detail/031705da25c62b5a49e5d1ae3048366a.html\n",
      "レバーとナスのみそ炒め\n",
      "11回目のループ→ https://erecipe.woman.excite.co.jp//detail/996096d773755feea70c4900f0187d42.html\n",
      "青パパイヤと豚肉の沖縄風炒め物（パパイヤシリシリ）by保田美幸さん\n",
      "12回目のループ→ https://erecipe.woman.excite.co.jp//detail/e0362d1285817ba49a2275bf7fb0f32b.html\n",
      "しらたき入りカロリーオフ焼きそば\n",
      "13回目のループ→ https://erecipe.woman.excite.co.jp//detail/03674686f550e67c21a93ba97756613d.html\n",
      "甘辛親子丼\n",
      "14回目のループ→ https://erecipe.woman.excite.co.jp//detail/51db6bceddc04bea9033e6ed5e111a92.html\n",
      "野菜たっぷりカレーそぼろ弁当♪\n"
     ]
    }
   ],
   "source": [
    "#リンクを取得_404notFOUND対策ver\n",
    "#各レシピのURLから\n",
    "#各レシピ名取得\n",
    "\n",
    "recipe_titles = []\n",
    "\n",
    "for i in range(len(recipe_links)):\n",
    "    recipe_link = recipe_links[i]\n",
    "    print(str(i)+\"回目のループ→\",recipe_link)\n",
    "#    title_link = title_link\n",
    "    \n",
    "    r = requests.get(recipe_link)\n",
    "    time.sleep(3)\n",
    "    soup = bs4(r.text, 'html.parser')\n",
    "    recipe_title = soup.find(class_=\"dispbl\").text\n",
    "    \n",
    "    if recipe_title == '404 NOT FOUND':\n",
    "        continue\n",
    "    else:\n",
    "        recipe_titles.append(recipe_title)\n",
    "        print(recipe_title)"
   ]
  },
  {
   "cell_type": "code",
   "execution_count": 13,
   "id": "4208a3e3-86bb-4a19-a5af-aebc9489d502",
   "metadata": {},
   "outputs": [
    {
     "data": {
      "text/plain": [
       "['https://erecipe.woman.excite.co.jp//detail/7be1e0dbac3df590d8ba893594929c3e.html',\n",
       " 'https://erecipe.woman.excite.co.jp//detail/bce7524b3f870ef80a85c6ef79ad1781.html',\n",
       " 'https://erecipe.woman.excite.co.jp//detail/34032ec40efcf1fbb83c400d10a67c60.html',\n",
       " 'https://erecipe.woman.excite.co.jp//detail/746341cbe291b6000ca65e50312ebe84.html',\n",
       " 'https://erecipe.woman.excite.co.jp//detail/66bbb3336f19a96781a718dbee7c65c5.html',\n",
       " 'https://erecipe.woman.excite.co.jp//detail/663b14f1a0b103235f0c1218d17d51b8.html',\n",
       " 'https://erecipe.woman.excite.co.jp//detail/c05a5aa297340d4f18d35e8c60e5ca8c.html',\n",
       " 'https://erecipe.woman.excite.co.jp//detail/76368b4408220944e4e8a4f002d2f512.html',\n",
       " 'https://erecipe.woman.excite.co.jp//detail/2d35dc8626ab60e31c0a86729532fac6.html',\n",
       " 'https://erecipe.woman.excite.co.jp//detail/f9a1110de547f1a03cf7f6f3aba33329.html',\n",
       " 'https://erecipe.woman.excite.co.jp//detail/031705da25c62b5a49e5d1ae3048366a.html',\n",
       " 'https://erecipe.woman.excite.co.jp//detail/996096d773755feea70c4900f0187d42.html',\n",
       " 'https://erecipe.woman.excite.co.jp//detail/e0362d1285817ba49a2275bf7fb0f32b.html',\n",
       " 'https://erecipe.woman.excite.co.jp//detail/03674686f550e67c21a93ba97756613d.html',\n",
       " 'https://erecipe.woman.excite.co.jp//detail/51db6bceddc04bea9033e6ed5e111a92.html']"
      ]
     },
     "execution_count": 13,
     "metadata": {},
     "output_type": "execute_result"
    }
   ],
   "source": [
    "#取り合えず表示\n",
    "\n",
    "recipe_links"
   ]
  },
  {
   "cell_type": "code",
   "execution_count": 14,
   "id": "622e7842-8c4b-464d-9d4b-47576c71ae2f",
   "metadata": {},
   "outputs": [],
   "source": [
    "#材料を取得する\n",
    "#とりあえず1つのURLで\n",
    "#url = 'https://erecipe.woman.excite.co.jp/detail/bce7524b3f870ef80a85c6ef79ad1781.html'\n",
    "url = recipe_links[0]\n",
    "r = requests.get(url)\n",
    "time.sleep(3)"
   ]
  },
  {
   "cell_type": "code",
   "execution_count": 15,
   "id": "66096062-b467-4808-a037-24e66fd66401",
   "metadata": {},
   "outputs": [],
   "source": [
    "soup = bs4(r.text, 'html.parser')\n",
    "#soup"
   ]
  },
  {
   "cell_type": "code",
   "execution_count": 16,
   "id": "e4780a4d-5f3e-4497-a141-80c1cf8e3bdb",
   "metadata": {},
   "outputs": [],
   "source": [
    "contents = soup.find(class_=\"fl mR10 mT10\")"
   ]
  },
  {
   "cell_type": "code",
   "execution_count": 17,
   "id": "98556e24-e102-4ff6-9707-e8febcd50ec4",
   "metadata": {},
   "outputs": [
    {
     "data": {
      "text/plain": [
       "[<a class=\"name\" href=\"/food/meat/beef/8/\" title=\"牛スネ肉\"><h2 class=\"dispin\"><b>牛スネ肉</b></h2></a>,\n",
       " <a class=\"name\" href=\"/food/flavoring/fat_oil/495/\" title=\"サラダ油\"><h2 class=\"dispin\">サラダ油</h2></a>,\n",
       " <a class=\"name\" href=\"/food/vegetable/yasai/166/\" title=\"玉ネギ\"><h2 class=\"dispin\">玉ネギ</h2></a>,\n",
       " <a class=\"name\" href=\"/food/vegetable/yasai/170/\" title=\"ニンニク\"><h2 class=\"dispin\">ニンニク</h2></a>,\n",
       " <a class=\"name\" href=\"/food/drink/alcohol/555/\" title=\"赤ワイン\"><h2 class=\"dispin\">赤ワイン</h2></a>,\n",
       " <a class=\"name\" href=\"/food/drink/o_drink/562/\" title=\"水\"><h2 class=\"dispin\">水</h2></a>,\n",
       " <a class=\"name\" href=\"/food/vegetable/p_vegetable/1349/\" title=\"トマトピューレ\"><h2 class=\"dispin\">トマトピューレ</h2></a>,\n",
       " <a class=\"name\" href=\"/food/flavoring/sweetener/477/\" title=\"ハチミツ\"><h2 class=\"dispin\">ハチミツ</h2></a>,\n",
       " <a class=\"name\" href=\"/food/flavoring/seasoning/465/\" title=\"塩\"><h2 class=\"dispin\">塩</h2></a>,\n",
       " <a class=\"name\" href=\"/food/vegetable/yasai/266/\" title=\"ルッコラ\"><h2 class=\"dispin\">ルッコラ</h2></a>,\n",
       " <a class=\"name\" href=\"/food/flavoring/spice/793/\" title=\"粗びき黒コショウ\"><h2 class=\"dispin\">粗びき黒コショウ</h2></a>,\n",
       " <a class=\"name\" href=\"/food/vegetable/imo/425/\" title=\"ジャガイモ\"><h2 class=\"dispin\">ジャガイモ</h2></a>,\n",
       " <a class=\"name\" href=\"/food/egg_milk/dairy_products/497/\" title=\"バター\"><h2 class=\"dispin\">バター</h2></a>,\n",
       " <a class=\"name\" href=\"/food/egg_milk/dairy_products/147/\" title=\"牛乳\"><h2 class=\"dispin\">牛乳</h2></a>,\n",
       " <a class=\"name\" href=\"/food/flavoring/seasoning/465/\" title=\"塩\"><h2 class=\"dispin\">塩</h2></a>,\n",
       " <a class=\"clear dispbl mT10\" href=\"/shopping/?recipe_id[]=7be1e0dbac3df590d8ba893594929c3e\" onclick=\"sendEvent('detail', 'navi_bt', 'memo');\"><span class=\"memo sprite recipeicons fl\">メモ</span>お買い物メモ</a>,\n",
       " <a class=\"tag\" href=\"/search/?genre_type_genre_id=0102\">洋食</a>,\n",
       " <a class=\"tag\" href=\"/search/?genre_type_genre_id=0102&amp;sub_genre_id=003\">煮もの</a>,\n",
       " <a class=\"tag\" href=\"/search/?recipe_type_id=02\">主菜</a>]"
      ]
     },
     "execution_count": 17,
     "metadata": {},
     "output_type": "execute_result"
    }
   ],
   "source": [
    "get_a = contents.find_all(\"a\")\n",
    "get_a"
   ]
  },
  {
   "cell_type": "code",
   "execution_count": 18,
   "id": "cb77e652-6989-4b9e-9112-3029285cbaac",
   "metadata": {},
   "outputs": [
    {
     "data": {
      "text/plain": [
       "[<span class=\"amount fR\">300～350g</span>,\n",
       " <span class=\"amount fR\">大さじ1</span>,\n",
       " <span class=\"amount fR\">1/4個分</span>,\n",
       " <span class=\"amount fR\">1片分</span>,\n",
       " <span class=\"amount fR\">120ml</span>,\n",
       " <span class=\"amount fR\">適量</span>,\n",
       " <span class=\"amount fR\">大さじ1</span>,\n",
       " <span class=\"amount fR\">大さじ1</span>,\n",
       " <span class=\"amount fR\">適量</span>,\n",
       " <span class=\"amount fR\">適量</span>,\n",
       " <span class=\"amount fR\">適量</span>,\n",
       " <span class=\"amount fR amount_indent\">1～2個</span>,\n",
       " <span class=\"amount fR amount_indent\">10g</span>,\n",
       " <span class=\"amount fR amount_indent\">大さじ3</span>,\n",
       " <span class=\"amount fR amount_indent\">適量</span>]"
      ]
     },
     "execution_count": 18,
     "metadata": {},
     "output_type": "execute_result"
    }
   ],
   "source": [
    "#分量を取得\n",
    " \n",
    "# searchで始まる文字列のNavigableStringを検索\n",
    "search = re.compile('^amount')\n",
    "amount = []\n",
    "\n",
    "amount = soup.find_all(class_=search)\n",
    "amount\n"
   ]
  },
  {
   "cell_type": "code",
   "execution_count": 19,
   "id": "1b68d577-f517-40dc-b81d-402eac59f440",
   "metadata": {},
   "outputs": [
    {
     "name": "stdout",
     "output_type": "stream",
     "text": [
      "牛スネ肉\n",
      "300～350g\n",
      "サラダ油\n",
      "大さじ1\n",
      "玉ネギ\n",
      "1/4個分\n",
      "ニンニク\n",
      "1片分\n",
      "赤ワイン\n",
      "120ml\n",
      "水\n",
      "適量\n",
      "トマトピューレ\n",
      "大さじ1\n",
      "ハチミツ\n",
      "大さじ1\n",
      "塩\n",
      "適量\n",
      "ルッコラ\n",
      "適量\n",
      "粗びき黒コショウ\n",
      "適量\n",
      "ジャガイモ\n",
      "1～2個\n",
      "バター\n",
      "10g\n",
      "牛乳\n",
      "大さじ3\n",
      "塩\n",
      "適量\n",
      "None\n",
      "None\n",
      "None\n",
      "None\n"
     ]
    }
   ],
   "source": [
    "#材料とともに表示\n",
    "material_title = []\n",
    "\n",
    "for i in range(len(get_a)):\n",
    "    try:\n",
    "        #材料名称\n",
    "        link_ = get_a[i].get(\"title\")\n",
    "        print(link_)\n",
    "        #材料の分量\n",
    "        print(amount[i].text)\n",
    "        material_title.append(link_)\n",
    "    except:\n",
    "        pass\n"
   ]
  },
  {
   "cell_type": "code",
   "execution_count": 20,
   "id": "6a13d29f-cee4-4437-b893-3935a4f7eb5a",
   "metadata": {},
   "outputs": [
    {
     "name": "stdout",
     "output_type": "stream",
     "text": [
      "0回目\n",
      "0回目0\n",
      "0回目0\n",
      "1回目\n",
      "1回目0\n",
      "1回目0\n",
      "2回目\n",
      "2回目0\n",
      "2回目0\n",
      "3回目\n",
      "3回目0\n",
      "3回目0\n",
      "4回目\n",
      "4回目0\n",
      "4回目0\n",
      "5回目\n",
      "5回目0\n",
      "5回目0\n",
      "6回目\n",
      "6回目0\n",
      "6回目0\n",
      "7回目\n",
      "7回目0\n",
      "7回目0\n",
      "8回目\n",
      "8回目0\n",
      "8回目0\n",
      "9回目\n",
      "9回目0\n",
      "9回目0\n",
      "10回目\n",
      "10回目0\n",
      "10回目0\n",
      "11回目\n",
      "11回目0\n",
      "11回目0\n",
      "12回目\n",
      "12回目0\n",
      "12回目0\n",
      "13回目\n",
      "13回目0\n",
      "13回目0\n",
      "14回目\n",
      "14回目0\n",
      "14回目0\n"
     ]
    },
    {
     "ename": "IndexError",
     "evalue": "list index out of range",
     "output_type": "error",
     "traceback": [
      "\u001b[1;31m---------------------------------------------------------------------------\u001b[0m",
      "\u001b[1;31mIndexError\u001b[0m                                Traceback (most recent call last)",
      "\u001b[1;32m<ipython-input-20-9b903b00c06b>\u001b[0m in \u001b[0;36m<module>\u001b[1;34m\u001b[0m\n\u001b[0;32m     45\u001b[0m \u001b[1;31m#    recipe_material[i].append(material_title)\u001b[0m\u001b[1;33m\u001b[0m\u001b[1;33m\u001b[0m\u001b[1;33m\u001b[0m\u001b[0m\n\u001b[0;32m     46\u001b[0m \u001b[1;31m#    recipe_amount[i].append(amount)\u001b[0m\u001b[1;33m\u001b[0m\u001b[1;33m\u001b[0m\u001b[1;33m\u001b[0m\u001b[0m\n\u001b[1;32m---> 47\u001b[1;33m \u001b[0mprint\u001b[0m\u001b[1;33m(\u001b[0m\u001b[0mmaterial_title\u001b[0m\u001b[1;33m[\u001b[0m\u001b[0mi\u001b[0m\u001b[1;33m-\u001b[0m\u001b[1;36m1\u001b[0m\u001b[1;33m]\u001b[0m\u001b[1;33m)\u001b[0m\u001b[1;33m\u001b[0m\u001b[1;33m\u001b[0m\u001b[0m\n\u001b[0m\u001b[0;32m     48\u001b[0m \u001b[0mprint\u001b[0m\u001b[1;33m(\u001b[0m\u001b[0mamounts\u001b[0m\u001b[1;33m[\u001b[0m\u001b[0mi\u001b[0m\u001b[1;33m-\u001b[0m\u001b[1;36m1\u001b[0m\u001b[1;33m]\u001b[0m\u001b[1;33m)\u001b[0m\u001b[1;33m\u001b[0m\u001b[1;33m\u001b[0m\u001b[0m\n\u001b[0;32m     49\u001b[0m \u001b[1;31m#recipe_material\u001b[0m\u001b[1;33m\u001b[0m\u001b[1;33m\u001b[0m\u001b[1;33m\u001b[0m\u001b[0m\n",
      "\u001b[1;31mIndexError\u001b[0m: list index out of range"
     ]
    }
   ],
   "source": [
    "#ここまでを全部のURLで\n",
    "\n",
    "recipe_material = []\n",
    "recipe_amount = []\n",
    "#このamountとmaterial_titleをデータフレームに入れたい\n",
    "#材料とともに表示\n",
    "material_title = []\n",
    "amounts = []\n",
    "\n",
    "for i in range(len(recipe_links)):\n",
    "    #材料を取得する\n",
    "    #とりあえず1つのURLで\n",
    "    url = recipe_links[i]\n",
    "    r = requests.get(url)\n",
    "    time.sleep(3)\n",
    "    \n",
    "    soup = bs4(r.text, 'html.parser')\n",
    "    contents = soup.find(class_=\"fl mR10 mT10\")\n",
    "    \n",
    "    #aタグをすべて取得\n",
    "    get_a = contents.find_all(\"a\")\n",
    "    \n",
    "    # searchで始まる文字列のNavigableStringを検索\n",
    "    search = re.compile('^amount')\n",
    "    \n",
    "    amount = soup.find_all(class_=search)\n",
    "    \n",
    "    for j in range(len(get_a)):\n",
    "        try:\n",
    "            #材料名称\n",
    "            link_ = get_a[j].get(\"title\")\n",
    "#            print(link_)\n",
    "            #材料の分量\n",
    "#            print(amount[j].text)\n",
    "            material_title[i].append(link_)\n",
    "            amounts[i].append(amount[j].text)\n",
    "        except:\n",
    "            pass\n",
    "    print(str(i) + \"回目\")\n",
    "    print(str(i) + \"回目\" + str(len(material_title)))\n",
    "#    len(material_title)\n",
    "    print(str(i) + \"回目\" + str(    len(amounts)))\n",
    "#    len(amounts)\n",
    "\n",
    "#    recipe_material[i].append(material_title)\n",
    "#    recipe_amount[i].append(amount)\n",
    "print(material_title[i-1])\n",
    "print(amounts[i-1])\n",
    "#recipe_material\n",
    "#recipe_amount\n",
    "    "
   ]
  },
  {
   "cell_type": "code",
   "execution_count": null,
   "id": "69ec88e2-cf23-4bf2-82e5-afacff45bc74",
   "metadata": {},
   "outputs": [],
   "source": [
    "print(material_title)\n",
    "print(amounts)\n",
    "\n",
    "len(material_title)\n",
    "len(amounts)"
   ]
  },
  {
   "cell_type": "code",
   "execution_count": null,
   "id": "4ece4286-22c2-4ff8-885e-10decebab474",
   "metadata": {},
   "outputs": [],
   "source": [
    "#ここまでをdataFrameに\n",
    "result ={\n",
    "    'recipe_title': recipe_titles,\n",
    "    'recipe_links': recipe_links,\n",
    "    'recipe_material': recipe_material,\n",
    "    'recipe_amount': recipe_amount\n",
    "}\n",
    "result"
   ]
  },
  {
   "cell_type": "code",
   "execution_count": null,
   "id": "a6015fea-33bd-46ad-9472-69530fc88b2f",
   "metadata": {},
   "outputs": [],
   "source": []
  },
  {
   "cell_type": "code",
   "execution_count": null,
   "id": "2b535752-30ae-489a-8d8e-8a40a2c2a1dd",
   "metadata": {},
   "outputs": [],
   "source": [
    "df = pd.DataFrame(result)"
   ]
  },
  {
   "cell_type": "code",
   "execution_count": null,
   "id": "10c1652f-3fd5-4662-8496-bb9cda64167d",
   "metadata": {},
   "outputs": [],
   "source": [
    "df"
   ]
  },
  {
   "cell_type": "code",
   "execution_count": null,
   "id": "59da2d9e-96dc-4179-8e7c-15fef092d824",
   "metadata": {},
   "outputs": [],
   "source": []
  },
  {
   "cell_type": "code",
   "execution_count": null,
   "id": "d44de998-d558-43ca-b3a7-ba141e4f4fb4",
   "metadata": {},
   "outputs": [],
   "source": []
  },
  {
   "cell_type": "code",
   "execution_count": null,
   "id": "1544e2ac-eaaa-473b-b7bc-df55b7b7c572",
   "metadata": {},
   "outputs": [],
   "source": []
  },
  {
   "cell_type": "code",
   "execution_count": null,
   "id": "049b1e34-a1dc-4340-a200-bd41fbf62b3f",
   "metadata": {},
   "outputs": [],
   "source": []
  },
  {
   "cell_type": "code",
   "execution_count": null,
   "id": "980fedd0-8e7b-41f8-acbd-f449e4ae9d86",
   "metadata": {},
   "outputs": [],
   "source": [
    "\n"
   ]
  },
  {
   "cell_type": "code",
   "execution_count": null,
   "id": "744b4828-277c-4ebd-81f0-e01eaa2f26ac",
   "metadata": {},
   "outputs": [],
   "source": [
    "\n",
    "\n",
    "\n",
    "\n",
    "\n",
    "    "
   ]
  },
  {
   "cell_type": "code",
   "execution_count": null,
   "id": "33111b8b-a0c5-4659-a871-dec32eb4dd47",
   "metadata": {},
   "outputs": [],
   "source": []
  },
  {
   "cell_type": "code",
   "execution_count": null,
   "id": "3de90b11-b242-471a-8b56-01b9785f59ad",
   "metadata": {},
   "outputs": [],
   "source": [
    "\n",
    "get_a = contents.find(\"class\")\n",
    "get_a\n"
   ]
  },
  {
   "cell_type": "code",
   "execution_count": null,
   "id": "1b9beef0-0921-443c-975b-103809cf1a6b",
   "metadata": {},
   "outputs": [],
   "source": []
  },
  {
   "cell_type": "code",
   "execution_count": null,
   "id": "b2de5efc-d9e3-4a00-bb78-2a707c09c6cc",
   "metadata": {},
   "outputs": [],
   "source": []
  }
 ],
 "metadata": {
  "kernelspec": {
   "display_name": "Python 3",
   "language": "python",
   "name": "python3"
  },
  "language_info": {
   "codemirror_mode": {
    "name": "ipython",
    "version": 3
   },
   "file_extension": ".py",
   "mimetype": "text/x-python",
   "name": "python",
   "nbconvert_exporter": "python",
   "pygments_lexer": "ipython3",
   "version": "3.8.5"
  }
 },
 "nbformat": 4,
 "nbformat_minor": 5
}
